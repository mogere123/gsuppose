{
 "cells": [
  {
   "cell_type": "code",
   "execution_count": null,
   "id": "c1ce4172",
   "metadata": {},
   "outputs": [],
   "source": [
    "# %load setup\n",
    "import setuptools\n",
    "\n",
    "with open(\"README.md\", \"r\", encoding=\"utf-8\") as fh:\n",
    "    long_description = fh.read()\n",
    "\n",
    "setuptools.setup(\n",
    "    name=\"gsuppose\",\n",
    "    version=\"0.1\",\n",
    "    author=\"Laboratorio de Fotónica, Universidad de Buenos Aires\",\n",
    "    author_email=\"alacapmesure@fi.uba.ar\",\n",
    "    description=\"SUPPOSe deconvolution algorithm by means of gradient descent optimization methods.\",\n",
    "    long_description=long_description,\n",
    "    long_description_content_type=\"text/markdown\",\n",
    "    url=\"https://gitlab.com/labofotonica/gsuppose\",\n",
    "    packages=setuptools.find_packages(where=\"gsuppose\"),\n",
    "    classifiers=[\n",
    "        'Development Status :: 4 - Beta',\n",
    "        'Environment :: GPU :: NVIDIA CUDA',\n",
    "        'Programming Language :: Python :: 3',\n",
    "        'Operating System :: OS Independent',\n",
    "        'Typing :: Typed',\n",
    "        'Programming Language :: Python',\n",
    "        'Topic :: Software Development :: Libraries',\n",
    "        'Programming Language :: Python :: 3.6',\n",
    "        'Programming Language :: Python :: 3.7',\n",
    "        'Programming Language :: Python :: 3.8',\n",
    "    ],\n",
    "    python_requires='>=3.6',\n",
    "    install_requires=['numpy', 'matplotlib', 'tifffile'],\n",
    "    package_dir={\"\", \"gsuppose\"},\n",
    "    include_package_data=True\n",
    ")\n"
   ]
  },
  {
   "cell_type": "code",
   "execution_count": null,
   "id": "4bbab104",
   "metadata": {},
   "outputs": [],
   "source": [
    "# %load setup\n",
    "import setuptools\n",
    "\n",
    "with open(\"README.md\", \"r\", encoding=\"utf-8\") as fh:\n",
    "    long_description = fh.read()\n",
    "\n",
    "setuptools.setup(\n",
    "    name=\"gsuppose\",\n",
    "    version=\"0.1\",\n",
    "    author=\"Laboratorio de Fotónica, Universidad de Buenos Aires\",\n",
    "    author_email=\"alacapmesure@fi.uba.ar\",\n",
    "    description=\"SUPPOSe deconvolution algorithm by means of gradient descent optimization methods.\",\n",
    "    long_description=long_description,\n",
    "    long_description_content_type=\"text/markdown\",\n",
    "    url=\"https://gitlab.com/labofotonica/gsuppose\",\n",
    "    packages=setuptools.find_packages(where=\"gsuppose\"),\n",
    "    classifiers=[\n",
    "        'Development Status :: 4 - Beta',\n",
    "        'Environment :: GPU :: NVIDIA CUDA',\n",
    "        'Programming Language :: Python :: 3',\n",
    "        'Operating System :: OS Independent',\n",
    "        'Typing :: Typed',\n",
    "        'Programming Language :: Python',\n",
    "        'Topic :: Software Development :: Libraries',\n",
    "        'Programming Language :: Python :: 3.6',\n",
    "        'Programming Language :: Python :: 3.7',\n",
    "        'Programming Language :: Python :: 3.8',\n",
    "    ],\n",
    "    python_requires='>=3.6',\n",
    "    install_requires=['numpy', 'matplotlib', 'tifffile'],\n",
    "    package_dir={\"\", \"gsuppose\"},\n",
    "    include_package_data=True\n",
    ")\n"
   ]
  },
  {
   "cell_type": "code",
   "execution_count": null,
   "id": "0846ce75",
   "metadata": {},
   "outputs": [],
   "source": [
    "# %load setup\n",
    "import setuptools\n",
    "\n",
    "with open(\"README.md\", \"r\", encoding=\"utf-8\") as fh:\n",
    "    long_description = fh.read()\n",
    "\n",
    "setuptools.setup(\n",
    "    name=\"gsuppose\",\n",
    "    version=\"0.1\",\n",
    "    author=\"Laboratorio de Fotónica, Universidad de Buenos Aires\",\n",
    "    author_email=\"alacapmesure@fi.uba.ar\",\n",
    "    description=\"SUPPOSe deconvolution algorithm by means of gradient descent optimization methods.\",\n",
    "    long_description=long_description,\n",
    "    long_description_content_type=\"text/markdown\",\n",
    "    url=\"https://gitlab.com/labofotonica/gsuppose\",\n",
    "    packages=setuptools.find_packages(where=\"gsuppose\"),\n",
    "    classifiers=[\n",
    "        'Development Status :: 4 - Beta',\n",
    "        'Environment :: GPU :: NVIDIA CUDA',\n",
    "        'Programming Language :: Python :: 3',\n",
    "        'Operating System :: OS Independent',\n",
    "        'Typing :: Typed',\n",
    "        'Programming Language :: Python',\n",
    "        'Topic :: Software Development :: Libraries',\n",
    "        'Programming Language :: Python :: 3.6',\n",
    "        'Programming Language :: Python :: 3.7',\n",
    "        'Programming Language :: Python :: 3.8',\n",
    "    ],\n",
    "    python_requires='>=3.6',\n",
    "    install_requires=['numpy', 'matplotlib', 'tifffile'],\n",
    "    package_dir={\"\", \"gsuppose\"},\n",
    "    include_package_data=True\n",
    ")\n"
   ]
  },
  {
   "cell_type": "code",
   "execution_count": 18,
   "id": "f2bc8c00",
   "metadata": {},
   "outputs": [
    {
     "name": "stdout",
     "output_type": "stream",
     "text": [
      "Compilando libConvolve.so...\n"
     ]
    },
    {
     "ename": "FileNotFoundError",
     "evalue": "La biblioteca E:\\LAB\\gsuppose-master\\catmu-master\\catmu\\cuda\\libConvolve.so no pudo ser compilada.",
     "output_type": "error",
     "traceback": [
      "\u001b[1;31m---------------------------------------------------------------------------\u001b[0m",
      "\u001b[1;31mFileNotFoundError\u001b[0m                         Traceback (most recent call last)",
      "Cell \u001b[1;32mIn[18], line 1\u001b[0m\n\u001b[1;32m----> 1\u001b[0m \u001b[38;5;28;01mfrom\u001b[39;00m \u001b[38;5;21;01mcatmu\u001b[39;00m \u001b[38;5;28;01mimport\u001b[39;00m get_available_devices\n",
      "File \u001b[1;32mE:\\LAB\\gsuppose-master\\catmu-master\\catmu\\__init__.py:1\u001b[0m\n\u001b[1;32m----> 1\u001b[0m \u001b[38;5;28;01mfrom\u001b[39;00m \u001b[38;5;21;01m.\u001b[39;00m\u001b[38;5;21;01mapi\u001b[39;00m \u001b[38;5;28;01mimport\u001b[39;00m (ConvolutionManagerCPU, ConvolutionManagerGPU,\n\u001b[0;32m      2\u001b[0m                   CatmuError, ValidSizes, Size2D, Size3D, ValidPixelSizes)\n\u001b[0;32m      3\u001b[0m \u001b[38;5;28;01mfrom\u001b[39;00m \u001b[38;5;21;01m.\u001b[39;00m\u001b[38;5;21;01mapi\u001b[39;00m \u001b[38;5;28;01mimport\u001b[39;00m get_available_devices, get_device_properties, \u001b[38;5;28mcompile\u001b[39m\n\u001b[0;32m      4\u001b[0m \u001b[38;5;28;01mfrom\u001b[39;00m \u001b[38;5;21;01m.\u001b[39;00m\u001b[38;5;21;01manalysis_tools\u001b[39;00m \u001b[38;5;28;01mimport\u001b[39;00m (make_gaussian_psf_lut,\n\u001b[0;32m      5\u001b[0m                              make_n_random_positions)\n",
      "File \u001b[1;32mE:\\LAB\\gsuppose-master\\catmu-master\\catmu\\api.py:83\u001b[0m\n\u001b[0;32m     78\u001b[0m     lib\u001b[38;5;241m.\u001b[39mcpu_expr_convolve2D_openmp\u001b[38;5;241m.\u001b[39mrestype \u001b[38;5;241m=\u001b[39m ctypes\u001b[38;5;241m.\u001b[39mc_int\n\u001b[0;32m     80\u001b[0m     \u001b[38;5;28;01mreturn\u001b[39;00m lib\n\u001b[1;32m---> 83\u001b[0m lib \u001b[38;5;241m=\u001b[39m \u001b[43mload_library\u001b[49m\u001b[43m(\u001b[49m\u001b[43mdebug\u001b[49m\u001b[38;5;241;43m=\u001b[39;49m\u001b[38;5;28;43;01mFalse\u001b[39;49;00m\u001b[43m)\u001b[49m\n\u001b[0;32m     84\u001b[0m lib_debug \u001b[38;5;241m=\u001b[39m load_library(debug\u001b[38;5;241m=\u001b[39m\u001b[38;5;28;01mTrue\u001b[39;00m)\n\u001b[0;32m     87\u001b[0m \u001b[38;5;28;01mdef\u001b[39;00m \u001b[38;5;21mget_available_devices\u001b[39m() \u001b[38;5;241m-\u001b[39m\u001b[38;5;241m>\u001b[39m \u001b[38;5;28mint\u001b[39m:\n",
      "File \u001b[1;32mE:\\LAB\\gsuppose-master\\catmu-master\\catmu\\api.py:56\u001b[0m, in \u001b[0;36mload_library\u001b[1;34m(debug)\u001b[0m\n\u001b[0;32m     54\u001b[0m \u001b[38;5;66;03m# Si la biblioteca no existe intenta compilarla\u001b[39;00m\n\u001b[0;32m     55\u001b[0m \u001b[38;5;28;01mif\u001b[39;00m lib_path\u001b[38;5;241m.\u001b[39mexists() \u001b[38;5;129;01mis\u001b[39;00m \u001b[38;5;28;01mFalse\u001b[39;00m:  \u001b[38;5;66;03m# pragma: no cover\u001b[39;00m\n\u001b[1;32m---> 56\u001b[0m     \u001b[38;5;28;43mcompile\u001b[39;49m\u001b[43m(\u001b[49m\u001b[43mlib_name\u001b[49m\u001b[43m)\u001b[49m\n\u001b[0;32m     58\u001b[0m \u001b[38;5;66;03m# Carga la biblioteca\u001b[39;00m\n\u001b[0;32m     59\u001b[0m lib \u001b[38;5;241m=\u001b[39m ctypes\u001b[38;5;241m.\u001b[39mCDLL(lib_path)\n",
      "File \u001b[1;32mE:\\LAB\\gsuppose-master\\catmu-master\\catmu\\api.py:41\u001b[0m, in \u001b[0;36mcompile\u001b[1;34m(lib_name)\u001b[0m\n\u001b[0;32m     39\u001b[0m lib_path \u001b[38;5;241m=\u001b[39m pathlib\u001b[38;5;241m.\u001b[39mPath(pathlib\u001b[38;5;241m.\u001b[39mPath(\u001b[38;5;18m__file__\u001b[39m)\u001b[38;5;241m.\u001b[39mparent \u001b[38;5;241m/\u001b[39m \u001b[38;5;124mf\u001b[39m\u001b[38;5;124m'\u001b[39m\u001b[38;5;124mcuda/\u001b[39m\u001b[38;5;132;01m{\u001b[39;00mlib_name\u001b[38;5;132;01m}\u001b[39;00m\u001b[38;5;124m'\u001b[39m)\n\u001b[0;32m     40\u001b[0m \u001b[38;5;28;01mif\u001b[39;00m lib_path\u001b[38;5;241m.\u001b[39mexists() \u001b[38;5;129;01mis\u001b[39;00m \u001b[38;5;28;01mFalse\u001b[39;00m:\n\u001b[1;32m---> 41\u001b[0m     \u001b[38;5;28;01mraise\u001b[39;00m \u001b[38;5;167;01mFileNotFoundError\u001b[39;00m(\u001b[38;5;124mf\u001b[39m\u001b[38;5;124m'\u001b[39m\u001b[38;5;124mLa biblioteca \u001b[39m\u001b[38;5;132;01m{\u001b[39;00mlib_path\u001b[38;5;132;01m}\u001b[39;00m\u001b[38;5;124m no pudo ser compilada.\u001b[39m\u001b[38;5;124m'\u001b[39m)\n\u001b[0;32m     42\u001b[0m \u001b[38;5;28mprint\u001b[39m(\u001b[38;5;124m\"\u001b[39m\u001b[38;5;124mCompilación exitosa\u001b[39m\u001b[38;5;124m\"\u001b[39m)\n",
      "\u001b[1;31mFileNotFoundError\u001b[0m: La biblioteca E:\\LAB\\gsuppose-master\\catmu-master\\catmu\\cuda\\libConvolve.so no pudo ser compilada."
     ]
    }
   ],
   "source": [
    "from catmu import get_available_devices\n"
   ]
  },
  {
   "cell_type": "code",
   "execution_count": null,
   "id": "501194c2",
   "metadata": {},
   "outputs": [],
   "source": []
  }
 ],
 "metadata": {
  "kernelspec": {
   "display_name": "Python 3 (ipykernel)",
   "language": "python",
   "name": "python3"
  },
  "language_info": {
   "codemirror_mode": {
    "name": "ipython",
    "version": 3
   },
   "file_extension": ".py",
   "mimetype": "text/x-python",
   "name": "python",
   "nbconvert_exporter": "python",
   "pygments_lexer": "ipython3",
   "version": "3.11.2"
  }
 },
 "nbformat": 4,
 "nbformat_minor": 5
}
