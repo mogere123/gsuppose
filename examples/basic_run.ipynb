{
 "cells": [
  {
   "cell_type": "markdown",
   "id": "deb6ac66",
   "metadata": {},
   "source": [
    "# Basic example for gSUPPOSe\n",
    "\n",
    "This notebook demonstrate the basic usage of gSUPPOSe for image deconvolution. We will take a simulation of a fluorescence microscopy image of four single emitters with a known gaussian PSF and we will run gSUPPOSe to resolve the underlying object."
   ]
  },
  {
   "cell_type": "code",
   "execution_count": 15,
   "id": "8413547c",
   "metadata": {},
   "outputs": [],
   "source": [
    "from gsuppose import GSUPPOSe\n",
    "from gsuppose.fitness import mse, dmse\n",
    "import numpy as np\n",
    "from catmu import get_available_devices\n",
    "from tifffile import imread\n",
    "import matplotlib.pyplot as plt"
   ]
  },
  {
   "cell_type": "markdown",
   "id": "b5f37217",
   "metadata": {},
   "source": [
    "---"
   ]
  },
  {
   "cell_type": "markdown",
   "id": "e68e0089",
   "metadata": {},
   "source": [
    "## Load the data\n",
    "\n",
    "First we will load our sample and the PSF of the microscope. We will also load an initial guess for our gSUPPOSe solution, i.e. a list of a fixed number of N virtual sources."
   ]
  },
  {
   "cell_type": "code",
   "execution_count": 16,
   "id": "3a979dfc",
   "metadata": {},
   "outputs": [
    {
     "name": "stdout",
     "output_type": "stream",
     "text": [
      "The sample shape is (32, 32)\n",
      "The PSF shape is (640, 640)\n",
      "There are N = 40 virtual sources.\n"
     ]
    }
   ],
   "source": [
    "sample = imread(\"emitters.tif\")\n",
    "psf = imread(\"emitters_psf.tif\")\n",
    "initial_positions = np.loadtxt(\"emitters_initial_positions.csv\", dtype=float, delimiter=\",\")\n",
    "\n",
    "print(f\"The sample shape is {sample.shape}\")\n",
    "print(f\"The PSF shape is {psf.shape}\")\n",
    "print(f\"There are N = {len(initial_positions)} virtual sources.\")"
   ]
  },
  {
   "cell_type": "markdown",
   "id": "adcac5c0",
   "metadata": {},
   "source": [
    "Let's plot our initial data. Please note that, in this case, **the PSF has a 10 times smaller pixel size** than the sample, so the real dimensions are not represented in the image sizes."
   ]
  },
  {
   "cell_type": "code",
   "execution_count": 17,
   "id": "234e8315",
   "metadata": {},
   "outputs": [
    {
     "data": {
      "image/png": "[encoded data removed]",
      "text/plain": [
       "<Figure size 432x288 with 3 Axes>"
      ]
     },
     "metadata": {
      "needs_background": "light"
     },
     "output_type": "display_data"
    }
   ],
   "source": [
    "fig, axes = plt.subplots(ncols=3)\n",
    "axes[0].imshow(sample);\n",
    "axes[0].set_title(f\"Sample\");\n",
    "\n",
    "axes[1].plot(initial_positions[:, 0], initial_positions[:, 1], \"ok\", markersize=1)\n",
    "axes[1].set_title(f\"Initial positions\")\n",
    "axes[1].set_aspect(1)\n",
    "axes[1].set_xlim(axes[0].get_xlim())\n",
    "axes[1].set_ylim(axes[0].get_ylim())\n",
    "\n",
    "axes[2].imshow(psf);\n",
    "axes[2].set_title(f\"PSF\");"
   ]
  },
  {
   "cell_type": "markdown",
   "id": "41b80db3",
   "metadata": {},
   "source": [
    "## Configure gSUPPOSe\n",
    "\n",
    "We will initialize a GSUPPOSE object and prepare it for our run. First we tell gSUPPOSe to take our `sample`, `psf` and `initial_positions` loaded before. With the arguments `sample_pixel_size` and `psf_pixel_size` we tell the algorithm that this PSF image has a 10 times smaller grid, which is useful to reduce interpolation error. We set the argument `normalize_input` to `'std'` to normalize our sample by dividing by its standard deviation, which is useful for mantaining the same optimizer configuration (such as the learning rate) for images with different intensities.\n",
    "\n",
    "The argument `optimizer` sets the gradient descent method that we will use, while `fitness_function` and `dfitness_function` sets the loss function that is minimized and its derivative. In this case we will us an ADAM optimizer with a Mean Squared Error loss and a `batch_size` of 5 virtual sources. The argument `global_scale` sets the learning rate and may be adjusted for each run.\n",
    "\n",
    "Finally, the argument `device` sets the device (or a list of devices) to use for computation. Positive integers `0, 1, ...` correspond to the available GPUs while `-1` correspond to CPU. Currently, gSUPPOSe allows to distribute the computation up to 3 devices, but since our GPU implementation is much faster than CPU, we recommend to use GPU devices if possible."
   ]
  },
  {
   "cell_type": "code",
   "execution_count": 28,
   "id": "4f7cb67e",
   "metadata": {},
   "outputs": [],
   "source": [
    "suppose = GSUPPOSe(sample=sample,\n",
    "                   psf=psf,\n",
    "                   initial_positions=initial_positions,\n",
    "                   sample_pixel_size=(1.0, 1.0),\n",
    "                   psf_pixel_size=(.1, .1),\n",
    "                   normalize_input='std',\n",
    "                   optimizer='adam',\n",
    "                   fitness_function=mse,\n",
    "                   dfitness_function=dmse,\n",
    "                   batch_size=5,\n",
    "                   global_scale=1e-1,\n",
    "                   device_index=0 if get_available_devices() else -1)"
   ]
  },
  {
   "cell_type": "markdown",
   "id": "c72cef1b",
   "metadata": {},
   "source": [
    "## Run gSUPPOSe\n",
    "\n",
    "Now we perform our run. We will run the algorithm through a maximum of 1000 `epochs` (iterations). The argument `stop_method` adds an extra stop condition which, in this case, finishes the execution when the maximum displacement of all virtual sources in an epoch is less than `stop_limit`. The argument `report_every` tells the algorithm to print its status during the run for every `100` epochs. We also enable live plots that shows the execution (plotting do not affect computation time since it runs in a parallel process) and we save our results in a file called `basic_run.npz`.\n",
    "\n",
    "At the current version, controlling the verbosity and the output stream is still pending."
   ]
  },
  {
   "cell_type": "code",
   "execution_count": 29,
   "id": "71a1223b",
   "metadata": {},
   "outputs": [
    {
     "name": "stdout",
     "output_type": "stream",
     "text": [
      "SGD-SUPPOSe started at 15/102021 16:18:35:\n",
      "    Epochs: 5000\n",
      "    Batch size: 5\n",
      "    Image shape: (32, 32)\n",
      "    PSF shape: (640, 640)\n",
      "    Devices: None\n",
      "\n",
      "\n",
      "Epoch 0\n",
      "    Fitness: 5.64e-05 +- 0.00e+00\n",
      "    Elapsed time: 0.0 s\n",
      "    Mean iter time: 5.60e-03 s\n",
      "      ├ Prepare batches: 4.15e-05 s (0.74 %)\n",
      "      ├ Convolve batches: 1.24e-03 s (22.20 %)\n",
      "      ├ Compute gradient: 7.43e-04 s (13.26 %)\n",
      "      ├ Update positions: 8.66e-04 s (15.46 %)\n",
      "      ├ Convolve solution: 1.92e-03 s (34.26 %)\n",
      "      ├ Fit parameters: 2.54e-04 s (4.54 %)\n",
      "      ├ Compute fitness: 4.74e-04 s (8.47 %)\n",
      "      ├ Update plot: 0.00e+00 s (0.00 %)\n",
      "      ├ Callbacks: 9.54e-07 s (0.02 %)\n",
      "      ├ Others: 5.91e-05 s (1.06 %)\n",
      "\n",
      "Epoch 500\n",
      "    Fitness: 5.32e-07 +- 0.00e+00\n",
      "    Elapsed time: 2.1 s\n",
      "    Mean iter time: 4.24e-03 s\n",
      "      ├ Prepare batches: 1.43e-05 s (0.34 %)\n",
      "      ├ Convolve batches: 6.88e-04 s (16.22 %)\n",
      "      ├ Compute gradient: 5.77e-04 s (13.62 %)\n",
      "      ├ Update positions: 7.34e-04 s (17.31 %)\n",
      "      ├ Convolve solution: 1.54e-03 s (36.39 %)\n",
      "      ├ Fit parameters: 2.30e-04 s (5.44 %)\n",
      "      ├ Compute fitness: 4.13e-04 s (9.73 %)\n",
      "      ├ Update plot: 0.00e+00 s (0.00 %)\n",
      "      ├ Callbacks: 5.21e-07 s (0.01 %)\n",
      "      ├ Others: 3.86e-05 s (0.91 %)\n",
      "\n",
      "Epoch 1000\n",
      "    Fitness: 4.77e-07 +- 0.00e+00\n",
      "    Elapsed time: 4.3 s\n",
      "    Mean iter time: 4.25e-03 s\n",
      "      ├ Prepare batches: 1.45e-05 s (0.34 %)\n",
      "      ├ Convolve batches: 6.58e-04 s (15.48 %)\n",
      "      ├ Compute gradient: 5.84e-04 s (13.74 %)\n",
      "      ├ Update positions: 7.42e-04 s (17.47 %)\n",
      "      ├ Convolve solution: 1.56e-03 s (36.73 %)\n",
      "      ├ Fit parameters: 2.32e-04 s (5.47 %)\n",
      "      ├ Compute fitness: 4.17e-04 s (9.81 %)\n",
      "      ├ Update plot: 0.00e+00 s (0.00 %)\n",
      "      ├ Callbacks: 5.55e-07 s (0.01 %)\n",
      "      ├ Others: 3.92e-05 s (0.92 %)\n",
      "\n",
      "Epoch 1500\n",
      "    Fitness: 4.66e-07 +- 0.00e+00\n",
      "    Elapsed time: 6.4 s\n",
      "    Mean iter time: 4.22e-03 s\n",
      "      ├ Prepare batches: 1.43e-05 s (0.34 %)\n",
      "      ├ Convolve batches: 6.45e-04 s (15.30 %)\n",
      "      ├ Compute gradient: 5.81e-04 s (13.77 %)\n",
      "      ├ Update positions: 7.40e-04 s (17.55 %)\n",
      "      ├ Convolve solution: 1.55e-03 s (36.74 %)\n",
      "      ├ Fit parameters: 2.32e-04 s (5.50 %)\n",
      "      ├ Compute fitness: 4.16e-04 s (9.86 %)\n",
      "      ├ Update plot: 0.00e+00 s (0.00 %)\n",
      "      ├ Callbacks: 5.41e-07 s (0.01 %)\n",
      "      ├ Others: 3.94e-05 s (0.93 %)\n",
      "\n",
      "Epoch 2000\n",
      "    Fitness: 4.62e-07 +- 0.00e+00\n",
      "    Elapsed time: 8.5 s\n",
      "    Mean iter time: 4.20e-03 s\n",
      "      ├ Prepare batches: 1.41e-05 s (0.34 %)\n",
      "      ├ Convolve batches: 6.34e-04 s (15.08 %)\n",
      "      ├ Compute gradient: 5.80e-04 s (13.79 %)\n",
      "      ├ Update positions: 7.39e-04 s (17.59 %)\n",
      "      ├ Convolve solution: 1.55e-03 s (36.85 %)\n",
      "      ├ Fit parameters: 2.32e-04 s (5.52 %)\n",
      "      ├ Compute fitness: 4.16e-04 s (9.89 %)\n",
      "      ├ Update plot: 0.00e+00 s (0.00 %)\n",
      "      ├ Callbacks: 5.28e-07 s (0.01 %)\n",
      "      ├ Others: 3.95e-05 s (0.94 %)\n",
      "\n",
      "Epoch 2500\n",
      "    Fitness: 4.59e-07 +- 0.00e+00\n",
      "    Elapsed time: 10.5 s\n",
      "    Mean iter time: 4.19e-03 s\n",
      "      ├ Prepare batches: 1.39e-05 s (0.33 %)\n",
      "      ├ Convolve batches: 6.29e-04 s (15.01 %)\n",
      "      ├ Compute gradient: 5.78e-04 s (13.81 %)\n",
      "      ├ Update positions: 7.38e-04 s (17.62 %)\n",
      "      ├ Convolve solution: 1.54e-03 s (36.83 %)\n",
      "      ├ Fit parameters: 2.32e-04 s (5.54 %)\n",
      "      ├ Compute fitness: 4.15e-04 s (9.91 %)\n",
      "      ├ Update plot: 0.00e+00 s (0.00 %)\n",
      "      ├ Callbacks: 5.19e-07 s (0.01 %)\n",
      "      ├ Others: 3.95e-05 s (0.94 %)\n",
      "Stop condition 'max_displacement' ocurred at epoch 2802.\n",
      "\n",
      "Finished at epoch 2802\n",
      "    Fitness: 4.58e-07 +- 0.00e+00\n",
      "    Elapsed time: 11.8 s\n",
      "    Mean iter time: 4.19e-03 s\n",
      "      ├ Prepare batches: 1.40e-05 s (0.33 %)\n",
      "      ├ Convolve batches: 6.28e-04 s (14.99 %)\n",
      "      ├ Compute gradient: 5.79e-04 s (13.81 %)\n",
      "      ├ Update positions: 7.39e-04 s (17.62 %)\n",
      "      ├ Convolve solution: 1.54e-03 s (36.84 %)\n",
      "      ├ Fit parameters: 2.33e-04 s (5.55 %)\n",
      "      ├ Compute fitness: 4.15e-04 s (9.91 %)\n",
      "      ├ Update plot: 0.00e+00 s (0.00 %)\n",
      "      ├ Callbacks: 5.22e-07 s (0.01 %)\n",
      "      ├ Others: 3.94e-05 s (0.94 %)\n"
     ]
    }
   ],
   "source": [
    "suppose.run(epochs=5000,\n",
    "            stop_method='max_displacement',\n",
    "            stop_limit=1e-3,\n",
    "            report_every=500,\n",
    "            plot=False,\n",
    "            save_path=\"basic_run.npz\")"
   ]
  },
  {
   "cell_type": "markdown",
   "id": "a7f2d128",
   "metadata": {},
   "source": [
    "## Plot the results\n",
    "\n",
    "Finally we plot the results of our run. The source intensity `alpha` can also be retrieved."
   ]
  },
  {
   "cell_type": "code",
   "execution_count": 36,
   "id": "9d4063f4",
   "metadata": {},
   "outputs": [
    {
     "data": {
      "image/png": "[encoded data removed]",
      "text/plain": [
       "<Figure size 432x288 with 3 Axes>"
      ]
     },
     "metadata": {
      "needs_background": "light"
     },
     "output_type": "display_data"
    },
    {
     "name": "stdout",
     "output_type": "stream",
     "text": [
      "The fitted source intensity (alpha) is '2.599e-01'\n"
     ]
    }
   ],
   "source": [
    "fig, axes = plt.subplots(ncols=3)\n",
    "axes[0].imshow(sample);\n",
    "axes[0].set_title(f\"Sample\");\n",
    "\n",
    "axes[1].plot(initial_positions[:, 0], initial_positions[:, 1], \"ok\", markersize=2, alpha=.2)\n",
    "axes[1].set_title(f\"Initial positions\")\n",
    "axes[1].set_aspect(1)\n",
    "axes[1].set_xlim(axes[0].get_xlim())\n",
    "axes[1].set_ylim(axes[0].get_ylim())\n",
    "\n",
    "axes[2].plot(suppose.positions[:, 0], suppose.positions[:, 1], \"ok\", markersize=2, alpha=.2)\n",
    "axes[2].set_title(f\"Final positions\")\n",
    "axes[2].set_aspect(1)\n",
    "axes[2].set_xlim(axes[0].get_xlim())\n",
    "axes[2].set_ylim(axes[0].get_ylim())\n",
    "\n",
    "plt.show()\n",
    "\n",
    "print(f\"The fitted source intensity (alpha) is '{suppose.alpha:.3e}'\")"
   ]
  }
 ],
 "metadata": {
  "kernelspec": {
   "display_name": "Python 3",
   "language": "python",
   "name": "python3"
  },
  "language_info": {
   "codemirror_mode": {
    "name": "ipython",
    "version": 3
   },
   "file_extension": ".py",
   "mimetype": "text/x-python",
   "name": "python",
   "nbconvert_exporter": "python",
   "pygments_lexer": "ipython3",
   "version": "3.9.4"
  }
 },
 "nbformat": 4,
 "nbformat_minor": 5
}
